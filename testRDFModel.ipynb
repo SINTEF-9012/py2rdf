{
 "cells": [
  {
   "cell_type": "code",
   "execution_count": null,
   "metadata": {},
   "outputs": [
    {
     "ename": "ModuleNotFoundError",
     "evalue": "No module named 'rdf_model'",
     "output_type": "error",
     "traceback": [
      "\u001b[31m---------------------------------------------------------------------------\u001b[39m",
      "\u001b[31mModuleNotFoundError\u001b[39m                       Traceback (most recent call last)",
      "\u001b[36mCell\u001b[39m\u001b[36m \u001b[39m\u001b[32mIn[1]\u001b[39m\u001b[32m, line 3\u001b[39m\n\u001b[32m      1\u001b[39m \u001b[38;5;28;01mfrom\u001b[39;00m\u001b[38;5;250m \u001b[39m\u001b[34;01m__future__\u001b[39;00m\u001b[38;5;250m \u001b[39m\u001b[38;5;28;01mimport\u001b[39;00m annotations  \u001b[38;5;66;03m# Makes all type hints lazy\u001b[39;00m\n\u001b[32m      2\u001b[39m \u001b[38;5;28;01mfrom\u001b[39;00m\u001b[38;5;250m \u001b[39m\u001b[34;01mtyping\u001b[39;00m\u001b[38;5;250m \u001b[39m\u001b[38;5;28;01mimport\u001b[39;00m ClassVar, List, Union\n\u001b[32m----> \u001b[39m\u001b[32m3\u001b[39m \u001b[38;5;28;01mfrom\u001b[39;00m\u001b[38;5;250m \u001b[39m\u001b[34;01mrdf_model\u001b[39;00m\u001b[38;5;250m \u001b[39m\u001b[38;5;28;01mimport\u001b[39;00m RDFModel, URIRefNode\n\u001b[32m      4\u001b[39m \u001b[38;5;28;01mfrom\u001b[39;00m\u001b[38;5;250m \u001b[39m\u001b[34;01mrdf_model\u001b[39;00m\u001b[38;5;250m \u001b[39m\u001b[38;5;28;01mimport\u001b[39;00m MapTo\n\u001b[32m      5\u001b[39m \u001b[38;5;28;01mfrom\u001b[39;00m\u001b[38;5;250m \u001b[39m\u001b[34;01mrdflib\u001b[39;00m\u001b[38;5;250m \u001b[39m\u001b[38;5;28;01mimport\u001b[39;00m Literal, Namespace, URIRef, Graph\n",
      "\u001b[31mModuleNotFoundError\u001b[39m: No module named 'rdf_model'"
     ]
    }
   ],
   "source": [
    "from __future__ import annotations  # Makes all type hints lazy\n",
    "from typing import ClassVar, List, Union\n",
    "from py2rdf.rdf_model import RDFModel, URIRefNode, MapTo\n",
    "\n",
    "from rdflib import Literal, Namespace, URIRef, Graph\n",
    "import json"
   ]
  },
  {
   "cell_type": "markdown",
   "metadata": {},
   "source": [
    "## Define the prefixes"
   ]
  },
  {
   "cell_type": "code",
   "execution_count": 2,
   "metadata": {},
   "outputs": [],
   "source": [
    "EX_NS = Namespace(\"http://example.org/\")"
   ]
  },
  {
   "cell_type": "markdown",
   "metadata": {},
   "source": [
    "## Define the Person Class"
   ]
  },
  {
   "cell_type": "code",
   "execution_count": null,
   "metadata": {},
   "outputs": [],
   "source": [
    "class Person(RDFModel):\n",
    "    \n",
    "    CLASS_URI: ClassVar[URIRef] = EX_NS.Person\n",
    "        \n",
    "\n",
    "    name: Literal | str = None\n",
    "    age: Literal | int = None\n",
    "    partner: URIRefNode | Person = None\n",
    "    children: list[URIRefNode | Person] = None\n",
    "    \n",
    "\n",
    "\n",
    "    mapping: ClassVar[dict] = {\n",
    "        \"name\": EX_NS.hasName,\n",
    "        \"age\": EX_NS.hasAge,\n",
    "        \"partner\": MapTo(EX_NS.hasPartner, EX_NS.hasPartner),\n",
    "        \"children\": MapTo(EX_NS.hasChild, EX_NS.hasParent)\n",
    "    }\n",
    "\n"
   ]
  },
  {
   "cell_type": "code",
   "execution_count": 4,
   "metadata": {},
   "outputs": [],
   "source": [
    "from pydantic import Field\n",
    "\n",
    "class Student(Person):\n",
    "    CLASS_URI: ClassVar[URIRef] = EX_NS.Student\n",
    "    student_id: Literal | str = None\n",
    "    \n",
    "    mapping: ClassVar[dict] = {\n",
    "        \"student_id\": EX_NS.hasStudentID\n",
    "    }\n",
    "\n",
    "class AnotherSubclassOfStudent(Student):\n",
    "    CLASS_URI: ClassVar[URIRef] = EX_NS.AnotherSubclassOfStudent\n",
    "    another_property: Literal | str = None\n",
    "    \n",
    "    mapping: ClassVar[dict] = {\n",
    "        \"another_property\": EX_NS.hasAnotherProperty\n",
    "    }"
   ]
  },
  {
   "cell_type": "code",
   "execution_count": 5,
   "metadata": {},
   "outputs": [
    {
     "name": "stdout",
     "output_type": "stream",
     "text": [
      "{rdflib.term.URIRef('http://example.org/Person'): <class '__main__.Person'>, rdflib.term.URIRef('http://example.org/Student'): <class '__main__.Student'>, rdflib.term.URIRef('http://example.org/AnotherSubclassOfStudent'): <class '__main__.AnotherSubclassOfStudent'>}\n"
     ]
    }
   ],
   "source": [
    "from rdf_model import NodeURIMeta\n",
    "\n",
    "\n",
    "NodeURIClassMapping = NodeURIMeta.node_uri_class_map\n",
    "print(NodeURIClassMapping)"
   ]
  },
  {
   "cell_type": "code",
   "execution_count": 6,
   "metadata": {},
   "outputs": [
    {
     "name": "stdout",
     "output_type": "stream",
     "text": [
      "{'name': rdflib.term.URIRef('http://example.org/hasName'), 'age': rdflib.term.URIRef('http://example.org/hasAge'), 'partner': <rdf_model.MapTo object at 0x10831c140>, 'children': <rdf_model.MapTo object at 0x10ec4dca0>, 'student_id': rdflib.term.URIRef('http://example.org/hasStudentID')}\n"
     ]
    }
   ],
   "source": [
    "print(Student.mapping)"
   ]
  },
  {
   "cell_type": "code",
   "execution_count": 7,
   "metadata": {},
   "outputs": [
    {
     "name": "stdout",
     "output_type": "stream",
     "text": [
      "{'name': rdflib.term.URIRef('http://example.org/hasName'), 'age': rdflib.term.URIRef('http://example.org/hasAge'), 'partner': <rdf_model.MapTo object at 0x10831c140>, 'children': <rdf_model.MapTo object at 0x10ec4dca0>, 'student_id': rdflib.term.URIRef('http://example.org/hasStudentID'), 'another_property': rdflib.term.URIRef('http://example.org/hasAnotherProperty')}\n"
     ]
    }
   ],
   "source": [
    "print(AnotherSubclassOfStudent.mapping)"
   ]
  },
  {
   "cell_type": "markdown",
   "metadata": {},
   "source": [
    "## Serialize to String"
   ]
  },
  {
   "cell_type": "code",
   "execution_count": 8,
   "metadata": {},
   "outputs": [
    {
     "name": "stdout",
     "output_type": "stream",
     "text": [
      "<Person:\n",
      "\turi: http://example.org/Peter\n",
      "\tname: Peter\n",
      "\tage: 30\n",
      "\tlabel: Peter\n",
      "\t\n",
      ">\n"
     ]
    }
   ],
   "source": [
    "peter = Person(name=\"Peter\", age=30, label=\"Peter\", uri=EX_NS.Peter)\n",
    "\n",
    "print(peter)\n",
    "\n"
   ]
  },
  {
   "cell_type": "markdown",
   "metadata": {},
   "source": [
    "## Serialize to RDF"
   ]
  },
  {
   "cell_type": "code",
   "execution_count": 9,
   "metadata": {},
   "outputs": [
    {
     "name": "stdout",
     "output_type": "stream",
     "text": [
      "@prefix ns1: <http://example.org/> .\n",
      "@prefix rdfs: <http://www.w3.org/2000/01/rdf-schema#> .\n",
      "@prefix xsd: <http://www.w3.org/2001/XMLSchema#> .\n",
      "\n",
      "ns1:Peter a ns1:Person ;\n",
      "    rdfs:label \"Peter\"^^xsd:string ;\n",
      "    ns1:hasAge 30 ;\n",
      "    ns1:hasName \"Peter\"^^xsd:string .\n",
      "\n",
      "\n"
     ]
    }
   ],
   "source": [
    "print(peter.rdf())"
   ]
  },
  {
   "cell_type": "markdown",
   "metadata": {},
   "source": [
    "## Serialize to JSON"
   ]
  },
  {
   "cell_type": "code",
   "execution_count": 10,
   "metadata": {},
   "outputs": [
    {
     "name": "stdout",
     "output_type": "stream",
     "text": [
      "{\n",
      "    \"class_uri\": \"http://example.org/Person\",\n",
      "    \"uri\": \"http://example.org/Peter\",\n",
      "    \"label\": \"Peter\",\n",
      "    \"name\": \"Peter\",\n",
      "    \"age\": 30\n",
      "}\n"
     ]
    }
   ],
   "source": [
    "peter_dict = peter.model_dump(exclude_none=True)\n",
    "json_outut = json.dumps(peter_dict, indent=4)\n",
    "\n",
    "print(json_outut)\n",
    "\n",
    "#json.dumps(peter, indent=4)"
   ]
  },
  {
   "cell_type": "markdown",
   "metadata": {},
   "source": [
    "## Testing object property and reverse property"
   ]
  },
  {
   "cell_type": "code",
   "execution_count": 11,
   "metadata": {},
   "outputs": [],
   "source": [
    "lois = Person(name=\"Lois\", age=28, label=\"Lois\", uri=EX_NS.Lois)\n",
    "\n",
    "chris = Person(name=\"Chris\", age=5, label=\"Chris\", uri=EX_NS.Chris)\n",
    "meg = Person(name=\"Meg\", age=6, label=\"Meg\", uri=EX_NS.Meg)\n",
    "stewie = Person(name=\"Stewie\", age=1, label=\"Stewie\", uri=EX_NS.Stewie)\n",
    "\n",
    "peter.partner = lois\n",
    "lois.partner = peter\n",
    "peter.children = [chris, meg, stewie]\n",
    "lois.children = [chris, meg, stewie]"
   ]
  },
  {
   "cell_type": "code",
   "execution_count": 12,
   "metadata": {},
   "outputs": [
    {
     "name": "stdout",
     "output_type": "stream",
     "text": [
      "<Person:\n",
      "\turi: http://example.org/Peter\n",
      "\tname: Peter\n",
      "\tage: 30\n",
      "\tpartner:\n",
      "\t<Person:\n",
      "\t\turi: http://example.org/Lois\n",
      "\t\tname: Lois\n",
      "\t\tage: 28\n",
      "\t\tpartner: <circular reference to http://example.org/Peter>\n",
      "\t\tchildren:\n",
      "\t\t<Person:\n",
      "\t\t\turi: http://example.org/Chris\n",
      "\t\t\tname: Chris\n",
      "\t\t\tage: 5\n",
      "\t\t\tlabel: Chris\n",
      "\t\t\t\n",
      "\t\t>\n",
      "\t\t<Person:\n",
      "\t\t\turi: http://example.org/Meg\n",
      "\t\t\tname: Meg\n",
      "\t\t\tage: 6\n",
      "\t\t\tlabel: Meg\n",
      "\t\t\t\n",
      "\t\t>\n",
      "\t\t<Person:\n",
      "\t\t\turi: http://example.org/Stewie\n",
      "\t\t\tname: Stewie\n",
      "\t\t\tage: 1\n",
      "\t\t\tlabel: Stewie\n",
      "\t\t\t\n",
      "\t\t>\n",
      "\t\tlabel: Lois\n",
      "\t\t\n",
      "\t>\n",
      "\tchildren:\n",
      "\t\t<circular reference to http://example.org/Chris>\n",
      "\t\t<circular reference to http://example.org/Meg>\n",
      "\t\t<circular reference to http://example.org/Stewie>\n",
      "\tlabel: Peter\n",
      "\t\n",
      ">\n"
     ]
    }
   ],
   "source": [
    "print(peter)"
   ]
  },
  {
   "cell_type": "code",
   "execution_count": 13,
   "metadata": {},
   "outputs": [
    {
     "name": "stdout",
     "output_type": "stream",
     "text": [
      "@prefix ns1: <http://example.org/> .\n",
      "@prefix rdfs: <http://www.w3.org/2000/01/rdf-schema#> .\n",
      "@prefix xsd: <http://www.w3.org/2001/XMLSchema#> .\n",
      "\n",
      "ns1:Chris a ns1:Person ;\n",
      "    rdfs:label \"Chris\"^^xsd:string ;\n",
      "    ns1:hasAge 5 ;\n",
      "    ns1:hasName \"Chris\"^^xsd:string ;\n",
      "    ns1:hasParent ns1:Lois,\n",
      "        ns1:Peter .\n",
      "\n",
      "ns1:Meg a ns1:Person ;\n",
      "    rdfs:label \"Meg\"^^xsd:string ;\n",
      "    ns1:hasAge 6 ;\n",
      "    ns1:hasName \"Meg\"^^xsd:string ;\n",
      "    ns1:hasParent ns1:Lois,\n",
      "        ns1:Peter .\n",
      "\n",
      "ns1:Stewie a ns1:Person ;\n",
      "    rdfs:label \"Stewie\"^^xsd:string ;\n",
      "    ns1:hasAge 1 ;\n",
      "    ns1:hasName \"Stewie\"^^xsd:string ;\n",
      "    ns1:hasParent ns1:Lois,\n",
      "        ns1:Peter .\n",
      "\n",
      "ns1:Lois a ns1:Person ;\n",
      "    rdfs:label \"Lois\"^^xsd:string ;\n",
      "    ns1:hasAge 28 ;\n",
      "    ns1:hasChild ns1:Chris,\n",
      "        ns1:Meg,\n",
      "        ns1:Stewie ;\n",
      "    ns1:hasName \"Lois\"^^xsd:string ;\n",
      "    ns1:hasPartner ns1:Peter .\n",
      "\n",
      "ns1:Peter a ns1:Person ;\n",
      "    rdfs:label \"Peter\"^^xsd:string ;\n",
      "    ns1:hasAge 30 ;\n",
      "    ns1:hasChild ns1:Chris,\n",
      "        ns1:Meg,\n",
      "        ns1:Stewie ;\n",
      "    ns1:hasName \"Peter\"^^xsd:string ;\n",
      "    ns1:hasPartner ns1:Lois .\n",
      "\n",
      "\n"
     ]
    }
   ],
   "source": [
    "print(peter.rdf())"
   ]
  },
  {
   "cell_type": "markdown",
   "metadata": {},
   "source": [
    "### Due to circular referece, partner was excluded in the JSON. This should be handled by Pydantic"
   ]
  },
  {
   "cell_type": "code",
   "execution_count": 14,
   "metadata": {},
   "outputs": [
    {
     "name": "stdout",
     "output_type": "stream",
     "text": [
      "{\n",
      "    \"class_uri\": \"http://example.org/Person\",\n",
      "    \"uri\": \"http://example.org/Peter\",\n",
      "    \"label\": \"Peter\",\n",
      "    \"name\": \"Peter\",\n",
      "    \"age\": 30,\n",
      "    \"children\": [\n",
      "        {\n",
      "            \"class_uri\": \"http://example.org/Person\",\n",
      "            \"uri\": \"http://example.org/Chris\",\n",
      "            \"label\": \"Chris\",\n",
      "            \"name\": \"Chris\",\n",
      "            \"age\": 5\n",
      "        },\n",
      "        {\n",
      "            \"class_uri\": \"http://example.org/Person\",\n",
      "            \"uri\": \"http://example.org/Meg\",\n",
      "            \"label\": \"Meg\",\n",
      "            \"name\": \"Meg\",\n",
      "            \"age\": 6\n",
      "        },\n",
      "        {\n",
      "            \"class_uri\": \"http://example.org/Person\",\n",
      "            \"uri\": \"http://example.org/Stewie\",\n",
      "            \"label\": \"Stewie\",\n",
      "            \"name\": \"Stewie\",\n",
      "            \"age\": 1\n",
      "        }\n",
      "    ]\n",
      "}\n"
     ]
    }
   ],
   "source": [
    "peter_dict = peter.model_dump(exclude_none=True, exclude=[\"partner\"])\n",
    "json_outut = json.dumps(peter_dict, indent=4)\n",
    "print(json_outut)"
   ]
  },
  {
   "cell_type": "markdown",
   "metadata": {},
   "source": [
    "## Deserialization"
   ]
  },
  {
   "cell_type": "code",
   "execution_count": 15,
   "metadata": {},
   "outputs": [
    {
     "name": "stdout",
     "output_type": "stream",
     "text": [
      "<Person:\n",
      "\turi: http://example.org/Peter\n",
      "\tname: Peter\n",
      "\tage: 30\n",
      "\tlabel: Peter\n",
      "\t\n",
      ">\n"
     ]
    }
   ],
   "source": [
    "peter_rdf_short = \"\"\"@prefix ns1: <http://example.org/> .\n",
    "@prefix rdfs: <http://www.w3.org/2000/01/rdf-schema#> .\n",
    "@prefix xsd: <http://www.w3.org/2001/XMLSchema#> .\n",
    "\n",
    "ns1:Peter a ns1:Person ;\n",
    "    rdfs:label \"Peter\"^^xsd:string ;\n",
    "    ns1:hasAge 30 ;\n",
    "    ns1:hasName \"Peter\"^^xsd:string .\n",
    "\"\"\"\n",
    "g = Graph()\n",
    "peter_short= Person.deserialize(g.parse(data=peter_rdf_short, format=\"turtle\"), node_uri=EX_NS.Peter)[str(EX_NS.Peter)]\n",
    "print(peter_short)"
   ]
  },
  {
   "cell_type": "code",
   "execution_count": 16,
   "metadata": {},
   "outputs": [],
   "source": [
    "peter_rdf_full = \"\"\"\n",
    "@prefix ns1: <http://example.org/> .\n",
    "@prefix rdfs: <http://www.w3.org/2000/01/rdf-schema#> .\n",
    "@prefix xsd: <http://www.w3.org/2001/XMLSchema#> .\n",
    "\n",
    "ns1:Chris a ns1:Person ;\n",
    "    rdfs:label \"Chris\"^^xsd:string ;\n",
    "    ns1:hasAge 5 ;\n",
    "    ns1:hasName \"Chris\"^^xsd:string ;\n",
    "    ns1:hasParent ns1:Lois,\n",
    "        ns1:Peter .\n",
    "\n",
    "ns1:Meg a ns1:Person ;\n",
    "    rdfs:label \"Meg\"^^xsd:string ;\n",
    "    ns1:hasAge 6 ;\n",
    "    ns1:hasName \"Meg\"^^xsd:string ;\n",
    "    ns1:hasParent ns1:Lois,\n",
    "        ns1:Peter .\n",
    "\n",
    "ns1:Stewie a ns1:Person ;\n",
    "    rdfs:label \"Stewie\"^^xsd:string ;\n",
    "    ns1:hasAge 1 ;\n",
    "    ns1:hasName \"Stewie\"^^xsd:string ;\n",
    "    ns1:hasParent ns1:Lois,\n",
    "        ns1:Peter .\n",
    "\n",
    "ns1:Lois a ns1:Person ;\n",
    "    rdfs:label \"Lois\"^^xsd:string ;\n",
    "    ns1:hasAge 28 ;\n",
    "    ns1:hasChild ns1:Chris,\n",
    "        ns1:Meg,\n",
    "        ns1:Stewie ;\n",
    "    ns1:hasName \"Lois\"^^xsd:string ;\n",
    "    ns1:hasPartner ns1:Peter .\n",
    "\n",
    "ns1:Peter a ns1:Person ;\n",
    "    rdfs:label \"Peter\"^^xsd:string ;\n",
    "    ns1:hasAge 30 ;\n",
    "    ns1:hasChild ns1:Chris,\n",
    "        ns1:Meg,\n",
    "        ns1:Stewie ;\n",
    "    ns1:hasName \"Peter\"^^xsd:string ;\n",
    "    ns1:hasPartner ns1:Lois .\n",
    "\"\"\""
   ]
  },
  {
   "cell_type": "code",
   "execution_count": 17,
   "metadata": {},
   "outputs": [
    {
     "name": "stdout",
     "output_type": "stream",
     "text": [
      "<Person:\n",
      "\turi: http://example.org/Peter\n",
      "\tname: Peter\n",
      "\tage: 30\n",
      "\tpartner:\n",
      "\t<Person:\n",
      "\t\turi: http://example.org/Lois\n",
      "\t\tname: Lois\n",
      "\t\tage: 28\n",
      "\t\tpartner: <circular reference to http://example.org/Peter>\n",
      "\t\tchildren:\n",
      "\t\t<Person:\n",
      "\t\t\turi: http://example.org/Chris\n",
      "\t\t\tname: Chris\n",
      "\t\t\tage: 5\n",
      "\t\t\tlabel: Chris\n",
      "\t\t\t\n",
      "\t\t>\n",
      "\t\t<Person:\n",
      "\t\t\turi: http://example.org/Meg\n",
      "\t\t\tname: Meg\n",
      "\t\t\tage: 6\n",
      "\t\t\tlabel: Meg\n",
      "\t\t\t\n",
      "\t\t>\n",
      "\t\t<Person:\n",
      "\t\t\turi: http://example.org/Stewie\n",
      "\t\t\tname: Stewie\n",
      "\t\t\tage: 1\n",
      "\t\t\tlabel: Stewie\n",
      "\t\t\t\n",
      "\t\t>\n",
      "\t\tlabel: Lois\n",
      "\t\t\n",
      "\t>\n",
      "\tchildren:\n",
      "\t\t<circular reference to http://example.org/Chris>\n",
      "\t\t<circular reference to http://example.org/Meg>\n",
      "\t\t<circular reference to http://example.org/Stewie>\n",
      "\tlabel: Peter\n",
      "\t\n",
      ">\n"
     ]
    }
   ],
   "source": [
    "g = Graph()\n",
    "peter_full = Person.deserialize(g.parse(data=peter_rdf_full, format=\"turtle\"), node_uri=EX_NS.Peter)[str(EX_NS.Peter)]\n",
    "\n",
    "print(peter_full)\n"
   ]
  },
  {
   "cell_type": "code",
   "execution_count": 18,
   "metadata": {},
   "outputs": [
    {
     "name": "stdout",
     "output_type": "stream",
     "text": [
      "@prefix ns1: <http://example.org/> .\n",
      "@prefix rdfs: <http://www.w3.org/2000/01/rdf-schema#> .\n",
      "@prefix xsd: <http://www.w3.org/2001/XMLSchema#> .\n",
      "\n",
      "ns1:Chris a ns1:Person ;\n",
      "    rdfs:label \"Chris\"^^xsd:string ;\n",
      "    ns1:hasAge 5 ;\n",
      "    ns1:hasName \"Chris\"^^xsd:string ;\n",
      "    ns1:hasParent ns1:Lois,\n",
      "        ns1:Peter .\n",
      "\n",
      "ns1:Meg a ns1:Person ;\n",
      "    rdfs:label \"Meg\"^^xsd:string ;\n",
      "    ns1:hasAge 6 ;\n",
      "    ns1:hasName \"Meg\"^^xsd:string ;\n",
      "    ns1:hasParent ns1:Lois,\n",
      "        ns1:Peter .\n",
      "\n",
      "ns1:Stewie a ns1:Person ;\n",
      "    rdfs:label \"Stewie\"^^xsd:string ;\n",
      "    ns1:hasAge 1 ;\n",
      "    ns1:hasName \"Stewie\"^^xsd:string ;\n",
      "    ns1:hasParent ns1:Lois,\n",
      "        ns1:Peter .\n",
      "\n",
      "ns1:Lois a ns1:Person ;\n",
      "    rdfs:label \"Lois\"^^xsd:string ;\n",
      "    ns1:hasAge 28 ;\n",
      "    ns1:hasChild ns1:Chris,\n",
      "        ns1:Meg,\n",
      "        ns1:Stewie ;\n",
      "    ns1:hasName \"Lois\"^^xsd:string ;\n",
      "    ns1:hasPartner ns1:Peter .\n",
      "\n",
      "ns1:Peter a ns1:Person ;\n",
      "    rdfs:label \"Peter\"^^xsd:string ;\n",
      "    ns1:hasAge 30 ;\n",
      "    ns1:hasChild ns1:Chris,\n",
      "        ns1:Meg,\n",
      "        ns1:Stewie ;\n",
      "    ns1:hasName \"Peter\"^^xsd:string ;\n",
      "    ns1:hasPartner ns1:Lois .\n",
      "\n",
      "\n"
     ]
    }
   ],
   "source": [
    "print(peter_full.rdf())\n",
    "\n",
    "#peter.model_dump(exclude_none=True, exclude=[\"partner\"])"
   ]
  },
  {
   "cell_type": "markdown",
   "metadata": {},
   "source": [
    "### When there is no class (rdf:type) is associated with an individual (e.g., Lois and their children), an URIRefNode will be used."
   ]
  },
  {
   "cell_type": "code",
   "execution_count": 19,
   "metadata": {},
   "outputs": [
    {
     "name": "stdout",
     "output_type": "stream",
     "text": [
      "<Person:\n",
      "\turi: http://example.org/Peter\n",
      "\tname: Peter\n",
      "\tage: 30\n",
      "\tpartner: uri: http://example.org/Lois\n",
      "\tchildren:\n",
      "\t\turi: http://example.org/Chris\n",
      "\t\turi: http://example.org/Meg\n",
      "\t\turi: http://example.org/Stewie\n",
      "\tlabel: Peter\n",
      "\t\n",
      ">\n"
     ]
    }
   ],
   "source": [
    "peter_rdf_partial = \"\"\"\n",
    "@prefix ns1: <http://example.org/> .\n",
    "@prefix rdfs: <http://www.w3.org/2000/01/rdf-schema#> .\n",
    "@prefix xsd: <http://www.w3.org/2001/XMLSchema#> .\n",
    "\n",
    "ns1:Peter a ns1:Person ;\n",
    "    rdfs:label \"Peter\"^^xsd:string ;\n",
    "    ns1:hasAge 30 ;\n",
    "    ns1:hasChild ns1:Chris,\n",
    "        ns1:Meg,\n",
    "        ns1:Stewie ;\n",
    "    ns1:hasName \"Peter\"^^xsd:string ;\n",
    "    ns1:hasPartner ns1:Lois .\n",
    "\"\"\"\n",
    "\n",
    "g = Graph()\n",
    "peter_partial = Person.deserialize(g.parse(data=peter_rdf_partial, format=\"turtle\"), node_uri=EX_NS.Peter)[str(EX_NS.Peter)]\n",
    "print(peter_partial)\n"
   ]
  },
  {
   "cell_type": "code",
   "execution_count": 20,
   "metadata": {},
   "outputs": [
    {
     "name": "stdout",
     "output_type": "stream",
     "text": [
      "{\n",
      "    \"class_uri\": \"http://example.org/Person\",\n",
      "    \"uri\": \"http://example.org/Peter\",\n",
      "    \"label\": \"Peter\",\n",
      "    \"name\": \"Peter\",\n",
      "    \"age\": 30,\n",
      "    \"partner\": {\n",
      "        \"uri\": \"http://example.org/Lois\"\n",
      "    },\n",
      "    \"children\": [\n",
      "        {\n",
      "            \"uri\": \"http://example.org/Chris\"\n",
      "        },\n",
      "        {\n",
      "            \"uri\": \"http://example.org/Meg\"\n",
      "        },\n",
      "        {\n",
      "            \"uri\": \"http://example.org/Stewie\"\n",
      "        }\n",
      "    ]\n",
      "}\n"
     ]
    }
   ],
   "source": [
    "peter_partial_dict = peter_partial.model_dump(exclude_none=True)\n",
    "json_outut = json.dumps(peter_partial_dict, indent=4)\n",
    "print(json_outut)"
   ]
  },
  {
   "cell_type": "code",
   "execution_count": 22,
   "metadata": {},
   "outputs": [
    {
     "name": "stdout",
     "output_type": "stream",
     "text": [
      "Person mapping: {'name': rdflib.term.URIRef('http://example.org/hasName'), 'age': rdflib.term.URIRef('http://example.org/hasAge'), 'partner': <rdf_model.MapTo object at 0x10831c140>, 'children': <rdf_model.MapTo object at 0x10ec4dca0>, 'label': rdflib.term.URIRef('http://www.w3.org/2000/01/rdf-schema#label')}\n",
      "Student mapping: {'name': rdflib.term.URIRef('http://example.org/hasName'), 'age': rdflib.term.URIRef('http://example.org/hasAge'), 'partner': <rdf_model.MapTo object at 0x10831c140>, 'children': <rdf_model.MapTo object at 0x10ec4dca0>, 'student_id': rdflib.term.URIRef('http://example.org/hasStudentID')}\n",
      "AnotherSubclassOfStudent mapping: {'name': rdflib.term.URIRef('http://example.org/hasName'), 'age': rdflib.term.URIRef('http://example.org/hasAge'), 'partner': <rdf_model.MapTo object at 0x10831c140>, 'children': <rdf_model.MapTo object at 0x10ec4dca0>, 'student_id': rdflib.term.URIRef('http://example.org/hasStudentID'), 'another_property': rdflib.term.URIRef('http://example.org/hasAnotherProperty')}\n"
     ]
    }
   ],
   "source": [
    "print(\"Person mapping:\", Person.mapping)\n",
    "print(\"Student mapping:\", Student.mapping)\n",
    "print(\"AnotherSubclassOfStudent mapping:\", AnotherSubclassOfStudent.mapping)\n"
   ]
  }
 ],
 "metadata": {
  "kernelspec": {
   "display_name": "py2rdf",
   "language": "python",
   "name": "python3"
  },
  "language_info": {
   "codemirror_mode": {
    "name": "ipython",
    "version": 3
   },
   "file_extension": ".py",
   "mimetype": "text/x-python",
   "name": "python",
   "nbconvert_exporter": "python",
   "pygments_lexer": "ipython3",
   "version": "3.12.11"
  }
 },
 "nbformat": 4,
 "nbformat_minor": 2
}
